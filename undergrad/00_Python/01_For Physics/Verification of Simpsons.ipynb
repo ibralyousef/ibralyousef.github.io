{
 "cells": [
  {
   "attachments": {},
   "cell_type": "markdown",
   "metadata": {},
   "source": [
    "# The goal of this notebook is to investigate the areas of where each of the Simpson's method performs better."
   ]
  },
  {
   "cell_type": "code",
   "execution_count": 1,
   "metadata": {},
   "outputs": [],
   "source": [
    "import sympy as sp\n",
    "import numpy as np\n",
    "\n",
    "def simpsons_rule(f, a, b, n, printing):\n",
    "    if n < 2:\n",
    "        n=2    \n",
    "    h = (b - a) / (n)  # Step size\n",
    "    x = a  # Initial value of x\n",
    "    integral = f(a) + f(b)  # Initialize the integral with the first and last function values\n",
    "\n",
    "    # Loop to compute the sum of the intermediate function values\n",
    "    for i in range(1, n):\n",
    "        x += h  # Update x\n",
    "        # Alternate between 4*f(x) and 2*f(x) depending on whether i is odd or even\n",
    "        integral += 4 * f(x) if i % 2 else 2 * f(x)\n",
    "\n",
    "    integral *= h / 3  # Multiply by h/3 as per Simpson's 1/3 Rule\n",
    "    \n",
    "    # Calculate the approximate integral using Simpson's 1/3 Rule\n",
    "    approx_integral = integral\n",
    "\n",
    "    # Calculate the exact integral using SymPy\n",
    "    x = sp.Symbol('x')\n",
    "    exact_integral = sp.integrate(f(x), (x, a, b))\n",
    "\n",
    "    # Get the numerical value of the exact integral\n",
    "    exact_integral_numerical = exact_integral.evalf()\n",
    "    \n",
    "    # Calculate the relative error\n",
    "    relative_error = abs(approx_integral - exact_integral_numerical) / abs(exact_integral_numerical)*100\n",
    "    \n",
    "    if printing == 'yes':\n",
    "        print(f\"Approximate integral: {approx_integral}\")\n",
    "        print(f\"Exact integral (symbolic): {exact_integral}\")\n",
    "        print(f\"Exact integral (numerical): {exact_integral_numerical}\")\n",
    "        print(f\"Relative error: {relative_error}%\")\n",
    "    else:\n",
    "        return relative_error.evalf(), approx_integral\n",
    "    \n",
    "def simpsons_3_8_rule(f, a, b, n,printing):\n",
    "    if n < 3:\n",
    "        n=3\n",
    "    h = (b - a) / (n)  # Step size\n",
    "    x = a  # Initial value of x\n",
    "    integral = f(a) + f(b)  # Initialize the integral with the first and last function values\n",
    "\n",
    "    # Loop to compute the sum of the intermediate function values\n",
    "    for i in range(1, n):\n",
    "        x += h  # Update x\n",
    "        # Alternate between 3*f(x) and 2*f(x) depending on whether i is a multiple of 3\n",
    "        if i % 3 == 0:\n",
    "            integral += 2 * f(x)\n",
    "        else:\n",
    "            integral += 3 * f(x)\n",
    "\n",
    "    integral *= 3 * h / 8  # Multiply by 3h/8 as per Simpson's 3/8 Rule\n",
    "    # Calculate the approximate integral using Simpson's 3/8 Rule\n",
    "    approx_integral = integral\n",
    "\n",
    "    # Calculate the exact integral using SymPy\n",
    "    x = sp.Symbol('x')\n",
    "    exact_integral = sp.integrate(f(x), (x, a, b))\n",
    "\n",
    "    # Get the numerical value of the exact integral\n",
    "    exact_integral_numerical = exact_integral.evalf()\n",
    "    \n",
    "    # Calculate the relative error\n",
    "    relative_error = abs(approx_integral - exact_integral_numerical) / abs(exact_integral_numerical)*100\n",
    "    if printing == 'yes':\n",
    "        print(f\"Approximate integral: {approx_integral}\")\n",
    "        print(f\"Exact integral (symbolic): {exact_integral}\")\n",
    "        print(f\"Exact integral (numerical): {exact_integral_numerical}\")\n",
    "        print(f\"Relative error: {relative_error}%\")\n",
    "    else:\n",
    "        return relative_error.evalf(), approx_integral"
   ]
  },
  {
   "attachments": {},
   "cell_type": "markdown",
   "metadata": {},
   "source": [
    "# Example 1: $f(x)=Sin(x)$, from 0 to $\\pi$\n",
    "## Even number of intervals:"
   ]
  },
  {
   "cell_type": "code",
   "execution_count": 2,
   "metadata": {},
   "outputs": [
    {
     "name": "stdout",
     "output_type": "stream",
     "text": [
      "n           1/3              3/8                  exact            %Error in 1/3       %Error in 3/8\n",
      "4   2.004559754984421   1.924873622452996   2.000000000000000   0.227987749221037   3.756318877350195\n",
      "6   2.000863189673536   2.002009846628558   2.000000000000000   0.043159483676813   0.100492331427904\n",
      "12   2.000052624341186   2.000119386415226   2.000000000000000   0.002631217059279   0.005969320761290\n",
      "14   2.000028343551469   1.993716360462760   2.000000000000000   0.001417177573426   0.314181976861994\n",
      "18   2.000010347705775   2.000023367367171   2.000000000000000   0.000517385288745   0.001168368358528\n"
     ]
    }
   ],
   "source": [
    "# Define the function to be integrated with SymPy\n",
    "\n",
    "def f(x):\n",
    "    return sp.sin(x)\n",
    "\n",
    "# Specify the interval and number of subintervals\n",
    "a = 0\n",
    "b = np.pi\n",
    "n = [4,6,12,14,18]\n",
    "print('%s%14s%17s%23s%25s%20s'%('n','1/3','3/8','exact','%Error in 1/3','%Error in 3/8'))\n",
    "for i in range(5):\n",
    "    x,sol13=simpsons_rule(f, a, b, n[i],0)\n",
    "    x,sol38=simpsons_3_8_rule(f, a, b, n[i],0)\n",
    "    x = sp.Symbol('x')\n",
    "    exact=sp.integrate(f(x), (x, a, b)).evalf()\n",
    "    print('%d%20.15f%20.15f%20.15f%20.15f%20.15f'%(n[i],sol13,sol38,exact,abs((sol13-exact)/exact*100),abs((sol38-exact)/exact*100)))\n",
    "    # print('For n = %d'%n[i])\n",
    "    # print('Simpson’s 1/3-Rule: %.15f'%sol13)\n",
    "    # print('Simpson’s 3/8-Rule: %.15f'%sol38)\n",
    "    # print('Exact Solution is : %.15s'%exact)\n",
    "    # print('%%Error in Simpson’s 1/3-Rule: %.15f%%'%abs((sol13-exact)/exact*100))\n",
    "    # print('%%Error in Simpson’s 3/8-Rule: %.15f%%\\n\\n'%abs((sol38-exact)/exact*100))\n"
   ]
  },
  {
   "attachments": {},
   "cell_type": "markdown",
   "metadata": {},
   "source": [
    "## Odd number of intervals:"
   ]
  },
  {
   "cell_type": "code",
   "execution_count": 3,
   "metadata": {},
   "outputs": [
    {
     "name": "stdout",
     "output_type": "stream",
     "text": [
      "n           1/3              3/8                  exact            %Error in 1/3       %Error in 3/8\n",
      "5   1.933765598092805   1.951398885498789   2.000000000000000   3.311720095359738   2.430055725060554\n",
      "7   1.966316678765892   1.975003817146601   2.000000000000000   1.684166061705383   1.249809142669933\n",
      "9   1.979650811216484   2.000382242089267   2.000000000000000   1.017459439175805   0.019112104463326\n",
      "11   1.986386986581657   1.989832645088238   2.000000000000000   0.680650670917127   0.508367745588079\n",
      "15   1.992683831530769   2.000048610710514   2.000000000000000   0.365808423461556   0.002430535525710\n"
     ]
    }
   ],
   "source": [
    "# Define the function to be integrated with SymPy\n",
    "\n",
    "def f(x):\n",
    "    return sp.sin(x)\n",
    "\n",
    "# Specify the interval and number of subintervals\n",
    "a = 0\n",
    "b = np.pi\n",
    "n = [5,7,9,11,15]\n",
    "print('%s%14s%17s%23s%25s%20s'%('n','1/3','3/8','exact','%Error in 1/3','%Error in 3/8'))\n",
    "for i in range(5):\n",
    "    x,sol13=simpsons_rule(f, a, b, n[i],0)\n",
    "    x,sol38=simpsons_3_8_rule(f, a, b, n[i],0)\n",
    "    x = sp.Symbol('x')\n",
    "    exact=sp.integrate(f(x), (x, a, b)).evalf()\n",
    "    print('%d%20.15f%20.15f%20.15f%20.15f%20.15f'%(n[i],sol13,sol38,exact,abs((sol13-exact)/exact*100),abs((sol38-exact)/exact*100)))\n",
    "    # print('For n = %d'%n[i])\n",
    "    # print('Simpson’s 1/3-Rule: %.15f'%sol13)\n",
    "    # print('Simpson’s 3/8-Rule: %.15f'%sol38)\n",
    "    # print('Exact Solution is : %.15s'%exact)\n",
    "    # print('%%Error in Simpson’s 1/3-Rule: %.15f%%'%abs((sol13-exact)/exact*100))\n",
    "    # print('%%Error in Simpson’s 3/8-Rule: %.15f%%\\n\\n'%abs((sol38-exact)/exact*100))"
   ]
  },
  {
   "attachments": {},
   "cell_type": "markdown",
   "metadata": {},
   "source": [
    "# Example 2: $f(x)=e^{\\frac12x}$, from -5 to 5\n",
    "## Even number of intervals:"
   ]
  },
  {
   "cell_type": "code",
   "execution_count": 4,
   "metadata": {},
   "outputs": [
    {
     "name": "stdout",
     "output_type": "stream",
     "text": [
      "n           1/3              3/8                  exact            %Error in 1/3       %Error in 3/8\n",
      "4  24.476641647179580  21.660730560779648  24.200817924159150   1.139728929347802  10.495874029297946\n",
      "6  24.260660984087529  24.325873885906162  24.200817924159150   0.247277014008024   0.516742707370116\n",
      "12  24.204788071786293  24.209573252623137  24.200817924159150   0.016405014242018   0.036177820482865\n",
      "14  24.202972534521379  23.475900187948156  24.200817924159150   0.008903047694426   2.995426594600030\n",
      "18  24.201611104851633  24.202586474339832  24.200817924159150   0.003277495392795   0.007307811604649\n"
     ]
    }
   ],
   "source": [
    "# Define the function to be integrated with SymPy\n",
    "\n",
    "def f(x):\n",
    "    return sp.exp(0.5*x)\n",
    "\n",
    "# Specify the interval and number of subintervals\n",
    "a = -5\n",
    "b = 5\n",
    "n = [4,6,12,14,18]\n",
    "print('%s%14s%17s%23s%25s%20s'%('n','1/3','3/8','exact','%Error in 1/3','%Error in 3/8'))\n",
    "for i in range(5):\n",
    "    x,sol13=simpsons_rule(f, a, b, n[i],0)\n",
    "    x,sol38=simpsons_3_8_rule(f, a, b, n[i],0)\n",
    "    x = sp.Symbol('x')\n",
    "    exact=sp.integrate(f(x), (x, a, b)).evalf()\n",
    "    print('%d%20.15f%20.15f%20.15f%20.15f%20.15f'%(n[i],sol13,sol38,exact,abs((sol13-exact)/exact*100),abs((sol38-exact)/exact*100)))\n",
    "    # print('For n = %d'%n[i])\n",
    "    # print('Simpson’s 1/3-Rule: %.15f'%sol13)\n",
    "    # print('Simpson’s 3/8-Rule: %.15f'%sol38)\n",
    "    # print('Exact Solution is : %.15s'%exact)\n",
    "    # print('%%Error in Simpson’s 1/3-Rule: %.15f%%'%abs((sol13-exact)/exact*100))\n",
    "    # print('%%Error in Simpson’s 3/8-Rule: %.15f%%\\n\\n'%abs((sol38-exact)/exact*100))\n"
   ]
  },
  {
   "attachments": {},
   "cell_type": "markdown",
   "metadata": {},
   "source": [
    "## Odd number of intervals:"
   ]
  },
  {
   "cell_type": "code",
   "execution_count": 5,
   "metadata": {},
   "outputs": [
    {
     "name": "stdout",
     "output_type": "stream",
     "text": [
      "n           1/3              3/8                  exact            %Error in 1/3       %Error in 3/8\n",
      "5  19.952282761881996  23.622053378493757  24.200817924159150  17.555337078239550   2.391508202239832\n",
      "7  20.420648436905172  21.518866595025834  24.200817924159150  15.620007138189813  11.082068951297643\n",
      "9  20.923206534770529  24.227656287517913  24.200817924159150  13.543390969925248   0.110898579721023\n",
      "11  21.339615566457056  23.391947434402056  24.200817924159150  11.822750646976349   3.342327074613526\n",
      "15  21.942306779486628  24.204456252746333  24.200817924159150   9.332375260002674   0.015033907525707\n"
     ]
    }
   ],
   "source": [
    "# Define the function to be integrated with SymPy\n",
    "\n",
    "def f(x):\n",
    "    return sp.exp(0.5*x)\n",
    "\n",
    "# Specify the interval and number of subintervals\n",
    "a = -5\n",
    "b = 5\n",
    "n = [5,7,9,11,15]\n",
    "print('%s%14s%17s%23s%25s%20s'%('n','1/3','3/8','exact','%Error in 1/3','%Error in 3/8'))\n",
    "for i in range(5):\n",
    "    x,sol13=simpsons_rule(f, a, b, n[i],0)\n",
    "    x,sol38=simpsons_3_8_rule(f, a, b, n[i],0)\n",
    "    x = sp.Symbol('x')\n",
    "    exact=sp.integrate(f(x), (x, a, b)).evalf()\n",
    "    print('%d%20.15f%20.15f%20.15f%20.15f%20.15f'%(n[i],sol13,sol38,exact,abs((sol13-exact)/exact*100),abs((sol38-exact)/exact*100)))\n",
    "    # print('For n = %d'%n[i])\n",
    "    # print('Simpson’s 1/3-Rule: %.15f'%sol13)\n",
    "    # print('Simpson’s 3/8-Rule: %.15f'%sol38)\n",
    "    # print('Exact Solution is : %.15s'%exact)\n",
    "    # print('%%Error in Simpson’s 1/3-Rule: %.15f%%'%abs((sol13-exact)/exact*100))\n",
    "    # print('%%Error in Simpson’s 3/8-Rule: %.15f%%\\n\\n'%abs((sol38-exact)/exact*100))"
   ]
  },
  {
   "attachments": {},
   "cell_type": "markdown",
   "metadata": {},
   "source": [
    "# Example 2: $f(x)=\\frac12x^2+3x+2^x$, from 0 to 3\n",
    "## Even number of intervals:"
   ]
  },
  {
   "cell_type": "code",
   "execution_count": 6,
   "metadata": {},
   "outputs": [
    {
     "name": "stdout",
     "output_type": "stream",
     "text": [
      "n           1/3              3/8                  exact            %Error in 1/3       %Error in 3/8\n",
      "4  28.102834852891409  24.911878158501363  28.098865286222743   0.014127142246601  11.342049208243308\n",
      "6  28.099663291074439  28.100635815954149  28.098865286222743   0.002839989599462   0.006301071994797\n",
      "12  28.098915695625625  28.098978304714091  28.098865286222743   0.000179400137222   0.000402217278871\n",
      "14  28.098892521720266  27.588195453389421  28.098865286222743   0.000096927392781   1.817403755032452\n",
      "18  28.098875263391719  28.098887699296178  28.098865286222743   0.000035507373247   0.000079765048183\n"
     ]
    }
   ],
   "source": [
    "# Define the function to be integrated with SymPy\n",
    "\n",
    "def f(x):\n",
    "    return 0.5*x**2+3*x+2**x\n",
    "\n",
    "# Specify the interval and number of subintervals\n",
    "a = 0\n",
    "b = 3\n",
    "n = [4,6,12,14,18]\n",
    "print('%s%14s%17s%23s%25s%20s'%('n','1/3','3/8','exact','%Error in 1/3','%Error in 3/8'))\n",
    "for i in range(5):\n",
    "    x,sol13=simpsons_rule(f, a, b, n[i],0)\n",
    "    x,sol38=simpsons_3_8_rule(f, a, b, n[i],0)\n",
    "    x = sp.Symbol('x')\n",
    "    exact=sp.integrate(f(x), (x, a, b)).evalf()\n",
    "    print('%d%20.15f%20.15f%20.15f%20.15f%20.15f'%(n[i],sol13,sol38,exact,abs((sol13-exact)/exact*100),abs((sol38-exact)/exact*100)))\n",
    "    # print('For n = %d'%n[i])\n",
    "    # print('Simpson’s 1/3-Rule: %.15f'%sol13)\n",
    "    # print('Simpson’s 3/8-Rule: %.15f'%sol38)\n",
    "    # print('Exact Solution is : %.15s'%exact)\n",
    "    # print('%%Error in Simpson’s 1/3-Rule: %.15f%%'%abs((sol13-exact)/exact*100))\n",
    "    # print('%%Error in Simpson’s 3/8-Rule: %.15f%%\\n\\n'%abs((sol38-exact)/exact*100))\n"
   ]
  },
  {
   "attachments": {},
   "cell_type": "markdown",
   "metadata": {},
   "source": [
    "## Odd number of intervals:"
   ]
  },
  {
   "cell_type": "code",
   "execution_count": 7,
   "metadata": {},
   "outputs": [
    {
     "name": "stdout",
     "output_type": "stream",
     "text": [
      "n           1/3              3/8                  exact           %%Error in 1/3      %%Error in 3/8\n",
      "5  24.488506396990172  26.981513834660351  28.098865286222743  12.848771124586230   3.976500261418900\n",
      "7  25.380055475267543  26.067294139555752  28.098865286222743   9.675870478258314   7.230082517471259\n",
      "9  25.923480459211614  28.099220517390567  28.098865286222743   7.741895641877575   0.001264218907792\n",
      "11  26.287309227079962  27.471074811683916  28.098865286222743   6.447079057071431   2.234220023278453\n",
      "15  26.742461385916730  28.098911697265770  28.098865286222743   4.827255074143782   0.000165170523983\n"
     ]
    }
   ],
   "source": [
    "# Define the function to be integrated with SymPy\n",
    "\n",
    "def f(x):\n",
    "    return 0.5*x**2+3*x+2**x\n",
    "\n",
    "# Specify the interval and number of subintervals\n",
    "a = 0\n",
    "b = 3\n",
    "n = [5,7,9,11,15]\n",
    "print('%s%14s%17s%23s%25s%20s'%('n','1/3','3/8','exact','%%Error in 1/3','%%Error in 3/8'))\n",
    "for i in range(5):\n",
    "    x,sol13=simpsons_rule(f, a, b, n[i],0)\n",
    "    x,sol38=simpsons_3_8_rule(f, a, b, n[i],0)\n",
    "    x = sp.Symbol('x')\n",
    "    exact=sp.integrate(f(x), (x, a, b)).evalf()\n",
    "    print('%d%20.15f%20.15f%20.15f%20.15f%20.15f'%(n[i],sol13,sol38,exact,abs((sol13-exact)/exact*100),abs((sol38-exact)/exact*100)))\n",
    "    # print('For n = %d'%n[i])\n",
    "    # print('Simpson’s 1/3-Rule: %.15f'%sol13)\n",
    "    # print('Simpson’s 3/8-Rule: %.15f'%sol38)\n",
    "    # print('Exact Solution is : %.15s'%exact)\n",
    "    # print('%%Error in Simpson’s 1/3-Rule: %.15f%%'%abs((sol13-exact)/exact*100))\n",
    "    # print('%%Error in Simpson’s 3/8-Rule: %.15f%%\\n\\n'%abs((sol38-exact)/exact*100))"
   ]
  },
  {
   "attachments": {},
   "cell_type": "markdown",
   "metadata": {},
   "source": [
    "# The findings of my analysis are as follows:\n",
    "# $\\forall n=4,6,12,14,18$, Simpson's 1/3 is better.\n",
    "# $\\forall n=5,7,9,11,15$, Simpson's 3/8 is better.\n",
    "# Therefore, for odd numbers, Simpson's 3/8 is better, and for even numbers, Simpson's 1/3 is better. Simpson's 3/8 excels when the number of intervals is odd, and a multiple of 3."
   ]
  }
 ],
 "metadata": {
  "kernelspec": {
   "display_name": "Python 3",
   "language": "python",
   "name": "python3"
  },
  "language_info": {
   "codemirror_mode": {
    "name": "ipython",
    "version": 3
   },
   "file_extension": ".py",
   "mimetype": "text/x-python",
   "name": "python",
   "nbconvert_exporter": "python",
   "pygments_lexer": "ipython3",
   "version": "3.10.5"
  },
  "orig_nbformat": 4
 },
 "nbformat": 4,
 "nbformat_minor": 2
}
